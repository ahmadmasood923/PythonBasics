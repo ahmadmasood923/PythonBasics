{
 "cells": [
  {
   "cell_type": "markdown",
   "id": "6c8212e7-a22c-4da0-bb92-09bd26bee768",
   "metadata": {},
   "source": [
    "# Ques 1:"
   ]
  },
  {
   "cell_type": "code",
   "execution_count": 8,
   "id": "5447fe06-ec8f-4671-be96-143195229311",
   "metadata": {},
   "outputs": [
    {
     "name": "stdin",
     "output_type": "stream",
     "text": [
      "Enter your percentage:  87\n"
     ]
    },
    {
     "name": "stdout",
     "output_type": "stream",
     "text": [
      "B\n"
     ]
    }
   ],
   "source": [
    "# Ques 1\n",
    "percentage = int(input(\"Enter your percentage: \"))\n",
    "if percentage >90:\n",
    "    print(\"A\")\n",
    "elif percentage >80 and percentage <=90:\n",
    "    print(\"B\")\n",
    "elif percentage >=60 and percentage <=80:\n",
    "    print(\"C\")\n",
    "else:\n",
    "    print(\"D\")"
   ]
  },
  {
   "cell_type": "markdown",
   "id": "3a4e19cf-5083-401a-9ca3-f58383a1b18e",
   "metadata": {},
   "source": [
    "# Ques 2:"
   ]
  },
  {
   "cell_type": "code",
   "execution_count": 10,
   "id": "85ad30c2-4058-4576-ac96-c189f4f20953",
   "metadata": {},
   "outputs": [
    {
     "name": "stdin",
     "output_type": "stream",
     "text": [
      "Enter the cost price of your bike:  24000\n"
     ]
    },
    {
     "name": "stdout",
     "output_type": "stream",
     "text": [
      "Your tax is  1200.0\n"
     ]
    }
   ],
   "source": [
    "cost_price = float(input(\"Enter the cost price of your bike: \"))\n",
    "if cost_price > 100000:\n",
    "    tax = (15/100)*cost_price\n",
    "    print(\"Your tax is \", tax)\n",
    "elif cost_price > 50000 and cost_price<=100000:\n",
    "    tax = (10/100)*cost_price\n",
    "    print(\"Your tax is \", tax)\n",
    "else:\n",
    "    tax = (5/100)*cost_price\n",
    "    print(\"Your tax is \", tax)"
   ]
  },
  {
   "cell_type": "markdown",
   "id": "c07d528e-7917-4d57-9da0-40e005825e89",
   "metadata": {},
   "source": [
    "# Ques 3:"
   ]
  },
  {
   "cell_type": "code",
   "execution_count": 12,
   "id": "6d8271bd-2307-4651-8aa1-6d4d5038ff71",
   "metadata": {},
   "outputs": [
    {
     "name": "stdin",
     "output_type": "stream",
     "text": [
      "Enter your city name:  Delhi\n"
     ]
    },
    {
     "name": "stdout",
     "output_type": "stream",
     "text": [
      "Red Fort\n"
     ]
    }
   ],
   "source": [
    "city = input(\"Enter your city name: \")\n",
    "if city.capitalize() == \"Agra\":\n",
    "    print(\"Taj Mahal\")\n",
    "elif city.capitalize() == \"Delhi\":\n",
    "    print(\"Red Fort\")\n",
    "elif city.capitalize() == \"Jaipur\":\n",
    "    print(\"Jal Mahal\")"
   ]
  },
  {
   "cell_type": "markdown",
   "id": "7c4a849f-c0ac-40b5-8d8f-ec2f0f6c466b",
   "metadata": {},
   "source": [
    "# Ques 4:"
   ]
  },
  {
   "cell_type": "code",
   "execution_count": null,
   "id": "dedc8e93-e36d-4ca7-826d-f75b814aae38",
   "metadata": {},
   "outputs": [],
   "source": [
    "num = int(input(\"Enter the number: \"))\n",
    "i = 0\n",
    "while num>=10:\n",
    "    if num%3 == 0:\n",
    "        q = num/3\n",
    "        num = q\n",
    "    i+=1\n",
    "print(i)"
   ]
  },
  {
   "cell_type": "markdown",
   "id": "de5a3fc5-8eed-48fe-a2ca-610fc8b079c4",
   "metadata": {},
   "source": [
    "# Ques 5:"
   ]
  },
  {
   "cell_type": "markdown",
   "id": "9bc634c8-b9aa-4bdc-86dd-f739a22d9718",
   "metadata": {},
   "source": [
    "## Ans: A while loop is used when we have to execute a block of code until a certain condition is met. If the condition for while loop is true the block of code inside while loop will be executed. Then condition will be checked again if it is true the code will execute again. This will keep repeating until the condition becomes false."
   ]
  },
  {
   "cell_type": "markdown",
   "id": "829e39b2-95e8-4151-9a24-ccf682be426c",
   "metadata": {},
   "source": [
    "### Examples:"
   ]
  },
  {
   "cell_type": "code",
   "execution_count": null,
   "id": "70acc5dd-4d84-4f7f-b48a-0f69ba3a0d92",
   "metadata": {},
   "outputs": [],
   "source": [
    "# program to dispaly number from 1 to given n\n",
    "n = int(input(\"Enter a number: \"))\n",
    "i = 1\n",
    "while n>=1:\n",
    "    print(i)\n",
    "    i+=1\n",
    "    n-=1"
   ]
  },
  {
   "cell_type": "code",
   "execution_count": null,
   "id": "d8030478-5510-4080-96e7-0d3c78033f0e",
   "metadata": {},
   "outputs": [],
   "source": [
    "# Program to print multiplication table of a number using while loop\n",
    "n = int(input(\"Enter a number: \"))\n",
    "i = 1\n",
    "while i<=10:\n",
    "    print(n,\" x \",i, \" = \", n*i)\n",
    "    i+=1"
   ]
  },
  {
   "cell_type": "code",
   "execution_count": 26,
   "id": "c991a82c-1b1e-46af-bd8e-a7fe4e3f1b1d",
   "metadata": {},
   "outputs": [
    {
     "name": "stdin",
     "output_type": "stream",
     "text": [
      "Enter a number:  6\n"
     ]
    },
    {
     "name": "stdout",
     "output_type": "stream",
     "text": [
      "The factorial of 6 is 720\n"
     ]
    }
   ],
   "source": [
    "# Program to find factorial of a number using while loop\n",
    "n = int(input(\"Enter a number: \"))\n",
    "original = n\n",
    "factorial = 1\n",
    "while n>0:\n",
    "    factorial = factorial * (n)\n",
    "    n = n-1\n",
    "print(\"The factorial of\",original,\"is\", factorial)    "
   ]
  },
  {
   "cell_type": "markdown",
   "id": "78d65893-ec71-4240-b5b9-b7c4186f2db6",
   "metadata": {},
   "source": [
    "# Ques 6:"
   ]
  },
  {
   "cell_type": "code",
   "execution_count": 32,
   "id": "b2628720-54b4-45ae-b414-61d12970ee28",
   "metadata": {},
   "outputs": [
    {
     "name": "stdin",
     "output_type": "stream",
     "text": [
      "Enter the number of rows:  6\n"
     ]
    },
    {
     "name": "stdout",
     "output_type": "stream",
     "text": [
      "1  \n",
      "2 2  \n",
      "3 3 3  \n",
      "4 4 4 4  \n",
      "5 5 5 5 5  \n",
      "6 6 6 6 6 6  \n"
     ]
    }
   ],
   "source": [
    "# Using while loop to print a number pattern\n",
    "rows = int(input(\"Enter the number of rows: \"))\n",
    "i = 1\n",
    "while i <= rows:\n",
    "    j = 1\n",
    "    while j <= i:\n",
    "        print(i, end=\" \")\n",
    "        j+=1\n",
    "    print(' ')\n",
    "    i+=1"
   ]
  },
  {
   "cell_type": "code",
   "execution_count": 2,
   "id": "4caebf18-59c1-433a-b52c-63321c604c80",
   "metadata": {},
   "outputs": [
    {
     "name": "stdin",
     "output_type": "stream",
     "text": [
      "Enter the number of rows:  6\n"
     ]
    },
    {
     "name": "stdout",
     "output_type": "stream",
     "text": [
      "1 1 1 1 1 1  \n",
      "2 2 2 2 2  \n",
      "3 3 3 3  \n",
      "4 4 4  \n",
      "5 5  \n",
      "6  \n"
     ]
    }
   ],
   "source": [
    "# Using while loop to print a number pattern which is invert of the pattern above\n",
    "rows = int(input(\"Enter the number of rows: \"))\n",
    "i = 1\n",
    "while i<=rows:\n",
    "    j = 1\n",
    "    while j<=rows+1-i:\n",
    "        print(i, end=\" \")\n",
    "        j+=1\n",
    "    print(' ')\n",
    "    i+=1"
   ]
  },
  {
   "cell_type": "code",
   "execution_count": 3,
   "id": "36abda20-80fd-4779-8a5f-2a1980eac4c2",
   "metadata": {},
   "outputs": [
    {
     "name": "stdin",
     "output_type": "stream",
     "text": [
      "Enter the number of rows:  4\n"
     ]
    },
    {
     "name": "stdout",
     "output_type": "stream",
     "text": [
      "*  \n",
      "* *  \n",
      "* * *  \n",
      "* * * *  \n"
     ]
    }
   ],
   "source": [
    "# Using while loop to pring start pattern\n",
    "rows = int(input(\"Enter the number of rows: \"))\n",
    "i = 1\n",
    "while i <= rows:\n",
    "    j = 1\n",
    "    while j <= i:\n",
    "        print(\"*\", end=\" \")\n",
    "        j+=1\n",
    "    print(' ')\n",
    "    i+=1"
   ]
  },
  {
   "cell_type": "markdown",
   "id": "35cd1b02-96dd-45c6-baf5-7b738535c719",
   "metadata": {},
   "source": [
    "# Ques 7 and Ques 8 --> As they are exactly same"
   ]
  },
  {
   "cell_type": "code",
   "execution_count": null,
   "id": "900282a5-5dc8-4b78-8cd6-a7840c38ecd3",
   "metadata": {},
   "outputs": [],
   "source": [
    "i = 10\n",
    "while i>0:\n",
    "    print(i)\n",
    "    i-=1"
   ]
  },
  {
   "cell_type": "code",
   "execution_count": null,
   "id": "069722a9-3ad4-483d-ad1c-509d4ee2f850",
   "metadata": {},
   "outputs": [],
   "source": []
  }
 ],
 "metadata": {
  "kernelspec": {
   "display_name": "Python 3 (ipykernel)",
   "language": "python",
   "name": "python3"
  },
  "language_info": {
   "codemirror_mode": {
    "name": "ipython",
    "version": 3
   },
   "file_extension": ".py",
   "mimetype": "text/x-python",
   "name": "python",
   "nbconvert_exporter": "python",
   "pygments_lexer": "ipython3",
   "version": "3.10.8"
  }
 },
 "nbformat": 4,
 "nbformat_minor": 5
}
